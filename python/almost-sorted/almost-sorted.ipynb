{
 "cells": [
  {
   "cell_type": "markdown",
   "metadata": {},
   "source": [
    "# The Problem\n",
    "https://www.hackerrank.com/challenges/almost-sorted/problem"
   ]
  },
  {
   "cell_type": "code",
   "execution_count": 8,
   "metadata": {},
   "outputs": [
    {
     "name": "stdout",
     "output_type": "stream",
     "text": [
      "1 True False\n",
      "2 True False\n",
      "3 False False\n",
      "4 False False\n",
      "[]\n"
     ]
    }
   ],
   "source": [
    "def _almostSorted(arr):\n",
    "    arr.insert(0, float('-inf'))  # sentinels\n",
    "    arr.append(float('inf'))\n",
    "    n = len(arr)\n",
    "    swap_candidates = []\n",
    "    rev_candidates = []\n",
    "    rev = False\n",
    "    rev_possible = True\n",
    "    asc_run = None\n",
    "\n",
    "    for index in range(1, n-1):  # dont loop over sentinels\n",
    "        last = index == n-1\n",
    "        asc_run = arr[index-1] < arr[index] < arr[index+1]\n",
    "        desc_run = arr[index-1] > arr[index] > arr[index+1]\n",
    "        in_order = True\n",
    "        print(index, asc_run, desc_run)\n",
    "        if not in_order:\n",
    "            if len(swap_candidates) and not last:\n",
    "                swap_candidates.append(index+1)\n",
    "            else:\n",
    "                swap_candidates.append(index)\n",
    "            if not rev and len(rev_candidates) > 0:\n",
    "                rev_possible = False\n",
    "            rev_candidates.append(index)\n",
    "            rev = True\n",
    "        elif rev:\n",
    "            rev_candidates.append(index)\n",
    "            rev = False\n",
    "            \n",
    "    print(swap_candidates)\n",
    "\n",
    "    if len(swap_candidates) == 2:\n",
    "        i, j = swap_candidates\n",
    "        arr[i], arr[j] = arr[j], arr[i]\n",
    "        i_sorted = arr[i] <= arr[i+1] and (i == 0 or arr[j] >= arr[i-1])\n",
    "        j_sorted = arr[j-1] <= arr[j] and (n-1 == j or arr[j] <= arr[j+1])\n",
    "        if i_sorted and j_sorted:\n",
    "            return 'swap', i+1, j+1\n",
    "    \n",
    "    if rev_possible and len(rev_candidates) > 0:\n",
    "        begin, end = rev_candidates[0], rev_candidates[-1]\n",
    "        if end == n-1 or arr[begin] < arr[end+1]:\n",
    "            return 'reverse', rev_candidates[0]+1, rev_candidates[-1]+1\n",
    "\n",
    "_almostSorted([1, 2, 5, 4])"
   ]
  },
  {
   "cell_type": "code",
   "execution_count": 127,
   "metadata": {},
   "outputs": [
    {
     "data": {
      "text/plain": [
       "('swap', 3, 5)"
      ]
     },
     "execution_count": 127,
     "metadata": {},
     "output_type": "execute_result"
    }
   ],
   "source": [
    "_almostSorted([1, 2, 5, 4, 3, 6, 9])"
   ]
  },
  {
   "cell_type": "code",
   "execution_count": 128,
   "metadata": {},
   "outputs": [
    {
     "data": {
      "text/plain": [
       "('reverse', 1, 5)"
      ]
     },
     "execution_count": 128,
     "metadata": {},
     "output_type": "execute_result"
    }
   ],
   "source": [
    "_almostSorted([5, 4, 3, 2, 1])"
   ]
  },
  {
   "cell_type": "code",
   "execution_count": 129,
   "metadata": {},
   "outputs": [],
   "source": [
    "_almostSorted([3, 1, 2])"
   ]
  },
  {
   "cell_type": "code",
   "execution_count": 130,
   "metadata": {},
   "outputs": [
    {
     "data": {
      "text/plain": [
       "('swap', 1, 2)"
      ]
     },
     "execution_count": 130,
     "metadata": {},
     "output_type": "execute_result"
    }
   ],
   "source": [
    "_almostSorted([4, 2])"
   ]
  },
  {
   "cell_type": "code",
   "execution_count": 131,
   "metadata": {},
   "outputs": [
    {
     "data": {
      "text/plain": [
       "('reverse', 2, 5)"
      ]
     },
     "execution_count": 131,
     "metadata": {},
     "output_type": "execute_result"
    }
   ],
   "source": [
    "_almostSorted([1, 5, 4, 3, 2, 6])"
   ]
  },
  {
   "cell_type": "code",
   "execution_count": 132,
   "metadata": {},
   "outputs": [
    {
     "data": {
      "text/plain": [
       "('swap', 12, 95)"
      ]
     },
     "execution_count": 132,
     "metadata": {},
     "output_type": "execute_result"
    }
   ],
   "source": [
    "failed = '4104 8529 49984 54956 63034 82534 84473 86411 92941 95929 108831 894947 125082 137123 137276 142534 149840 154703 174744 180537 207563 221088 223069 231982 249517 252211 255192 260283 261543 262406 270616 274600 274709 283838 289532 295589 310856 314991 322201 339198 343271 383392 385869 389367 403468 441925 444543 454300 455366 469896 478627 479055 484516 499114 512738 543943 552836 560153 578730 579688 591631 594436 606033 613146 621500 627475 631582 643754 658309 666435 667186 671190 674741 685292 702340 705383 722375 722776 726812 748441 790023 795574 797416 813164 813248 827778 839998 843708 851728 857147 860454 861956 864994 868755 116375 911042 912634 914500 920825 979477'.split()\n",
    "_almostSorted(list(map(int,failed)))"
   ]
  },
  {
   "cell_type": "code",
   "execution_count": 135,
   "metadata": {},
   "outputs": [
    {
     "name": "stdout",
     "output_type": "stream",
     "text": [
      "[2]\n"
     ]
    },
    {
     "data": {
      "text/plain": [
       "('reverse', 3, 4)"
      ]
     },
     "execution_count": 135,
     "metadata": {},
     "output_type": "execute_result"
    }
   ],
   "source": [
    "_almostSorted([1, 2, 4, 3, 5, 6])"
   ]
  },
  {
   "cell_type": "code",
   "execution_count": 92,
   "metadata": {},
   "outputs": [
    {
     "data": {
      "text/plain": [
       "('swap', 3, 4)"
      ]
     },
     "execution_count": 92,
     "metadata": {},
     "output_type": "execute_result"
    }
   ],
   "source": [
    "def try_swap(arr, i, j):\n",
    "    new_arr = arr[:]\n",
    "    new_arr[i], new_arr[j] = new_arr[j], new_arr[i]\n",
    "    return sorted(arr) == new_arr\n",
    "\n",
    "\n",
    "def try_reverse(arr, i, j):\n",
    "    new_arr = arr[:]\n",
    "    to_reverse = new_arr[i:j+1]\n",
    "    to_reverse.reverse()\n",
    "    new_arr[i:j+1] = to_reverse\n",
    "    return sorted(arr) == new_arr\n",
    "\n",
    "\n",
    "def _almostSorted(arr):\n",
    "    forward = range(len(arr))\n",
    "    backward = reversed(range(len(arr)))\n",
    "    leftmost = rightmost = None\n",
    "    for i, j in zip(forward, backward):\n",
    "        if leftmost is None and arr[i] > arr[i+1]:\n",
    "            leftmost = i\n",
    "        if rightmost is None and arr[j] < arr[j-1]:\n",
    "            rightmost = j\n",
    "        if leftmost and rightmost:\n",
    "            break\n",
    "    \n",
    "    if try_swap(arr, leftmost, rightmost):\n",
    "        return 'swap', leftmost+1, rightmost+1\n",
    "    if try_reverse(arr, leftmost, rightmost):\n",
    "        return 'reverse', leftmost+1, rightmost+1\n",
    "\n",
    "\n",
    "_almostSorted([1, 2, 5, 4])"
   ]
  },
  {
   "cell_type": "code",
   "execution_count": 93,
   "metadata": {},
   "outputs": [
    {
     "data": {
      "text/plain": [
       "('swap', 3, 5)"
      ]
     },
     "execution_count": 93,
     "metadata": {},
     "output_type": "execute_result"
    }
   ],
   "source": [
    "_almostSorted([1, 2, 5, 4, 3, 6, 9])"
   ]
  },
  {
   "cell_type": "code",
   "execution_count": 94,
   "metadata": {},
   "outputs": [
    {
     "data": {
      "text/plain": [
       "('reverse', 1, 5)"
      ]
     },
     "execution_count": 94,
     "metadata": {},
     "output_type": "execute_result"
    }
   ],
   "source": [
    "_almostSorted([5, 4, 3, 2, 1])"
   ]
  },
  {
   "cell_type": "code",
   "execution_count": null,
   "metadata": {},
   "outputs": [],
   "source": []
  }
 ],
 "metadata": {
  "kernelspec": {
   "display_name": "Python 3",
   "language": "python",
   "name": "python3"
  },
  "language_info": {
   "codemirror_mode": {
    "name": "ipython",
    "version": 3
   },
   "file_extension": ".py",
   "mimetype": "text/x-python",
   "name": "python",
   "nbconvert_exporter": "python",
   "pygments_lexer": "ipython3",
   "version": "3.7.2"
  }
 },
 "nbformat": 4,
 "nbformat_minor": 2
}
