{
 "cells": [
  {
   "cell_type": "code",
   "execution_count": 9,
   "metadata": {},
   "outputs": [],
   "source": [
    "def counts(gene, dna):\n",
    "    for i in range(len(dna)):\n",
    "        yield dna[i:i+len(gene)] == gene\n",
    "\n",
    "def dna_health(health, genes, first, last, dna):\n",
    "    return sum([\n",
    "        sum(counts(genes[i], dna)) * health[i]\n",
    "        for i in range(first, last+1)\n",
    "    ])"
   ]
  },
  {
   "cell_type": "code",
   "execution_count": 31,
   "metadata": {},
   "outputs": [],
   "source": [
    "class Node(object):\n",
    "    def __init__(self, path, character, parent, suffix=None):\n",
    "        self.path = path\n",
    "        self.character = character\n",
    "        self.parent = parent\n",
    "        self.suffix = suffix\n",
    "        self.health = None\n",
    "    \n",
    "    def __repr__(self):\n",
    "        return '<Node character:{}, parent:{}, suffix:{} >'.format(\n",
    "            self.character,\n",
    "            '--' if not self.parent else '<Node path:'+self.parent.path+'>',\n",
    "            '--' if not self.suffix else '<Node path:'+self.suffix.path+'>'\n",
    "        )"
   ]
  },
  {
   "cell_type": "code",
   "execution_count": 55,
   "metadata": {
    "scrolled": true
   },
   "outputs": [
    {
     "data": {
      "text/plain": [
       "7"
      ]
     },
     "execution_count": 55,
     "metadata": {},
     "output_type": "execute_result"
    }
   ],
   "source": [
    "class Node(object):\n",
    "    def __init__(self, path, in_dict, parent):\n",
    "        self.path = path\n",
    "        self.children = {}\n",
    "        self.parent = parent\n",
    "        self.in_dict = in_dict\n",
    "        self.suffix = None\n",
    "        self.dict_suffix = None\n",
    "\n",
    "    def __getitem__(self, letter):\n",
    "        return self.children.get(letter)\n",
    "    \n",
    "    def __contains__(self, letter):\n",
    "        return letter in self.children\n",
    "    \n",
    "    def __setitem__(self, letter, node):\n",
    "        self.children[letter] = node\n",
    "    \n",
    "    def __repr__(self):\n",
    "        return '{}\\t\\t{}\\t\\t{}\\t\\t{}\\n'.format(\n",
    "            \"'\"+self.path+\"'\",\n",
    "            self.in_dict,\n",
    "            '--' if not self.suffix else \"'\"+self.suffix.path+\"'\",\n",
    "            '--' if not self.dict_suffix else \"'\"+self.dict_suffix.path+\"'\"\n",
    "        ) + ''.join([\n",
    "            child.__repr__() \n",
    "            for child in self.children.values()\n",
    "        ])\n",
    "\n",
    "\n",
    "class Trie(object):\n",
    "    def __init__(self, dictionary, values):\n",
    "        self.trie_root = Node('', False, None)\n",
    "\n",
    "        for index, gene in enumerate(dictionary):\n",
    "            curr_node = self.trie_root\n",
    "            for i, letter in enumerate(gene):\n",
    "                if letter not in curr_node:\n",
    "                    in_dict = i == len(gene) - 1\n",
    "                    curr_node[letter] = Node(gene[:i+1], in_dict, curr_node)\n",
    "                else:\n",
    "                    pass  # update health value\n",
    "                curr_node = curr_node[letter]\n",
    "        \n",
    "        self._put_suffixes(self.trie_root, '')\n",
    "        self._put_dict_suffixes(self.trie_root)\n",
    "\n",
    "    def count(self, haystack):\n",
    "        needles = 0\n",
    "        node = self.trie_root\n",
    "        for straw in haystack:\n",
    "            node = self._next_good_node(node, straw)\n",
    "            if node.in_dict:\n",
    "                needles += 1\n",
    "            needles += len(self._num_dict_suffixes(node))\n",
    "        return needles\n",
    "    \n",
    "    def _num_dict_suffixes(self, node):\n",
    "        suffixes = []\n",
    "        suffix = node.dict_suffix\n",
    "        while suffix:\n",
    "            suffixes.append(suffix)\n",
    "            suffix = suffix.dict_suffix\n",
    "        return suffixes\n",
    "    \n",
    "    def _next_good_node(self, node, letter):\n",
    "        potential = node[letter]\n",
    "        base = node\n",
    "        while not potential:\n",
    "            potential = base.suffix[letter] if base.suffix else self.trie_root\n",
    "            base = base.suffix\n",
    "        return potential\n",
    "\n",
    "    def _put_suffixes(self, node, letter):\n",
    "        cursor = node.parent\n",
    "        while cursor:\n",
    "            suffix = cursor[letter]\n",
    "            if suffix and suffix != node:\n",
    "                node.suffix = suffix\n",
    "                break\n",
    "            elif cursor == self.trie_root:\n",
    "                node.suffix = self.trie_root\n",
    "                break\n",
    "            cursor = cursor.suffix\n",
    "        for key, child in node.children.items():\n",
    "            self._put_suffixes(child, key)\n",
    "    \n",
    "    def _put_dict_suffixes(self, node):\n",
    "        cursor = node.suffix\n",
    "        while cursor:\n",
    "            if cursor.in_dict:\n",
    "                node.dict_suffix = cursor\n",
    "            cursor = cursor.suffix\n",
    "        for child in node.children.values():\n",
    "            self._put_dict_suffixes(child)\n",
    "\n",
    "    def __repr__(self):\n",
    "       return self.trie_root.__repr__()\n",
    "\n",
    "trie = Trie(['a', 'ab', 'bab', 'bc', 'bca', 'c', 'caa'], [1, 2, 3, 4, 5, 6])\n",
    "trie.count('abccab')"
   ]
  },
  {
   "cell_type": "code",
   "execution_count": 41,
   "metadata": {},
   "outputs": [
    {
     "ename": "NameError",
     "evalue": "name 'dna_health' is not defined",
     "output_type": "error",
     "traceback": [
      "\u001b[0;31m---------------------------------------------------------------------------\u001b[0m",
      "\u001b[0;31mNameError\u001b[0m                                 Traceback (most recent call last)",
      "\u001b[0;32m<ipython-input-41-118640d9fb2b>\u001b[0m in \u001b[0;36m<module>\u001b[0;34m\u001b[0m\n\u001b[1;32m     15\u001b[0m         \u001b[0mdna\u001b[0m \u001b[0;34m=\u001b[0m \u001b[0mfirstLastd\u001b[0m\u001b[0;34m[\u001b[0m\u001b[0;36m2\u001b[0m\u001b[0;34m]\u001b[0m\u001b[0;34m\u001b[0m\u001b[0;34m\u001b[0m\u001b[0m\n\u001b[1;32m     16\u001b[0m \u001b[0;34m\u001b[0m\u001b[0m\n\u001b[0;32m---> 17\u001b[0;31m         \u001b[0mscore\u001b[0m \u001b[0;34m=\u001b[0m \u001b[0mdna_health\u001b[0m\u001b[0;34m(\u001b[0m\u001b[0mhealth\u001b[0m\u001b[0;34m,\u001b[0m \u001b[0mgenes\u001b[0m\u001b[0;34m,\u001b[0m \u001b[0mfirst\u001b[0m\u001b[0;34m,\u001b[0m \u001b[0mlast\u001b[0m\u001b[0;34m,\u001b[0m \u001b[0mdna\u001b[0m\u001b[0;34m)\u001b[0m\u001b[0;34m\u001b[0m\u001b[0;34m\u001b[0m\u001b[0m\n\u001b[0m\u001b[1;32m     18\u001b[0m \u001b[0;34m\u001b[0m\u001b[0m\n\u001b[1;32m     19\u001b[0m         \u001b[0;32mif\u001b[0m \u001b[0mscore\u001b[0m \u001b[0;34m<\u001b[0m \u001b[0mleast\u001b[0m\u001b[0;34m:\u001b[0m\u001b[0;34m\u001b[0m\u001b[0;34m\u001b[0m\u001b[0m\n",
      "\u001b[0;31mNameError\u001b[0m: name 'dna_health' is not defined"
     ]
    }
   ],
   "source": [
    "with open('input.txt') as inputs:\n",
    "    n = int(inputs.readline())\n",
    "    genes = inputs.readline().rstrip().split()\n",
    "    health = list(map(int, inputs.readline().rstrip().split()))\n",
    "    s = int(inputs.readline())\n",
    "\n",
    "    least = float('inf')\n",
    "    most = float('-inf')\n",
    "\n",
    "    for s_itr in range(s):\n",
    "        firstLastd = inputs.readline().split()\n",
    "\n",
    "        first = int(firstLastd[0])\n",
    "        last = int(firstLastd[1])\n",
    "        dna = firstLastd[2]\n",
    "        \n",
    "        score = dna_health(health, genes, first, last, dna)\n",
    "\n",
    "        if score < least:\n",
    "          least = score\n",
    "        if score > most:\n",
    "          most = score\n",
    "    \n",
    "    print(least, most)"
   ]
  },
  {
   "cell_type": "code",
   "execution_count": null,
   "metadata": {},
   "outputs": [],
   "source": []
  }
 ],
 "metadata": {
  "kernelspec": {
   "display_name": "Python 3",
   "language": "python",
   "name": "python3"
  },
  "language_info": {
   "codemirror_mode": {
    "name": "ipython",
    "version": 3
   },
   "file_extension": ".py",
   "mimetype": "text/x-python",
   "name": "python",
   "nbconvert_exporter": "python",
   "pygments_lexer": "ipython3",
   "version": "3.7.2"
  }
 },
 "nbformat": 4,
 "nbformat_minor": 2
}
