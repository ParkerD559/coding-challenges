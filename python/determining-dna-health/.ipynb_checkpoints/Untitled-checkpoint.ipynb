{
 "cells": [
  {
   "cell_type": "code",
   "execution_count": 9,
   "metadata": {},
   "outputs": [],
   "source": [
    "def counts(gene, dna):\n",
    "    for i in range(len(dna)):\n",
    "        yield dna[i:i+len(gene)] == gene\n",
    "\n",
    "def dna_health(health, genes, first, last, dna):\n",
    "    return sum([\n",
    "        sum(counts(genes[i], dna)) * health[i]\n",
    "        for i in range(first, last+1)\n",
    "    ])"
   ]
  },
  {
   "cell_type": "code",
   "execution_count": 26,
   "metadata": {},
   "outputs": [],
   "source": [
    "class Node(object):\n",
    "    def __init__(self, path, character, parent, suffix=None):\n",
    "        self.path = path\n",
    "        self.character = character\n",
    "        self.parent = parent\n",
    "        self.suffix = suffix\n",
    "        self.health = None\n",
    "    \n",
    "    def __repr__(self):\n",
    "        return '<Character:{}, Parent:{}, Suffix:{}>'.format(\n",
    "            self.character,\n",
    "            '--' if not self.parent else self.parent.path,\n",
    "            '--' if not self.suffix else self.suffix.path\n",
    "        )"
   ]
  },
  {
   "cell_type": "code",
   "execution_count": 27,
   "metadata": {},
   "outputs": [
    {
     "name": "stdout",
     "output_type": "stream",
     "text": [
      "a\n",
      "b\n",
      "c\n",
      "ab\n",
      "b\n",
      "ba\n",
      "a\n",
      "bc\n",
      "c\n",
      "ca\n",
      "a\n",
      "bab\n",
      "ab\n",
      "bca\n",
      "ca\n",
      "caa\n",
      "aa\n",
      "a\n"
     ]
    },
    {
     "data": {
      "text/plain": [
       "{'': <Character:, Parent:--, Suffix:-->,\n",
       " 'a': <Character:a, Parent:, Suffix:>,\n",
       " 'ab': <Character:b, Parent:a, Suffix:b>,\n",
       " 'b': <Character:b, Parent:, Suffix:>,\n",
       " 'ba': <Character:a, Parent:b, Suffix:a>,\n",
       " 'bab': <Character:b, Parent:ba, Suffix:ab>,\n",
       " 'bc': <Character:c, Parent:b, Suffix:c>,\n",
       " 'bca': <Character:a, Parent:bc, Suffix:ca>,\n",
       " 'c': <Character:c, Parent:, Suffix:>,\n",
       " 'ca': <Character:a, Parent:c, Suffix:a>,\n",
       " 'caa': <Character:a, Parent:ca, Suffix:a>}"
      ]
     },
     "execution_count": 27,
     "metadata": {},
     "output_type": "execute_result"
    }
   ],
   "source": [
    "def find_suffix(trie, path, parent, character):\n",
    "    if parent == None:\n",
    "        return\n",
    "    while True:\n",
    "        child_path = parent.path + character\n",
    "        if child_path != path and trie.get(child_path) and trie[child_path].character == character:\n",
    "            return trie[child_path]\n",
    "        elif parent.character == '':\n",
    "            return trie['']  # root\n",
    "        parent = trie[parent.path].suffix\n",
    "        \n",
    "        \n",
    "\n",
    "def build_trie(genes, health):\n",
    "    trie = {\n",
    "        '': Node('', '', None)  # path => Node\n",
    "    }\n",
    "    \n",
    "    for index, gene in enumerate(genes):\n",
    "        for i, _ in enumerate(gene):\n",
    "            path = gene[:i+1]\n",
    "            parent_path = gene[:i]\n",
    "            \n",
    "            if path not in trie:\n",
    "                parent, character = trie[parent_path], gene[i:i+1]\n",
    "                # suffix = find_suffix(trie, path, parent, character)\n",
    "                trie[path] = Node(path, character, parent)\n",
    "    \n",
    "    for key in sorted(trie.keys(), key=len):\n",
    "        trie[key].suffix = find_suffix(trie, key, trie[key].parent, trie[key].character)\n",
    "    \n",
    "    return trie\n",
    "\n",
    "build_trie(['a', 'ab', 'bab', 'bc', 'bca', 'c', 'caa'], [1, 2, 3, 4, 5, 6])"
   ]
  },
  {
   "cell_type": "code",
   "execution_count": 14,
   "metadata": {},
   "outputs": [
    {
     "ename": "NameError",
     "evalue": "name 'dna_health' is not defined",
     "output_type": "error",
     "traceback": [
      "\u001b[0;31m---------------------------------------------------------------------------\u001b[0m",
      "\u001b[0;31mNameError\u001b[0m                                 Traceback (most recent call last)",
      "\u001b[0;32m<ipython-input-14-118640d9fb2b>\u001b[0m in \u001b[0;36m<module>\u001b[0;34m\u001b[0m\n\u001b[1;32m     15\u001b[0m         \u001b[0mdna\u001b[0m \u001b[0;34m=\u001b[0m \u001b[0mfirstLastd\u001b[0m\u001b[0;34m[\u001b[0m\u001b[0;36m2\u001b[0m\u001b[0;34m]\u001b[0m\u001b[0;34m\u001b[0m\u001b[0;34m\u001b[0m\u001b[0m\n\u001b[1;32m     16\u001b[0m \u001b[0;34m\u001b[0m\u001b[0m\n\u001b[0;32m---> 17\u001b[0;31m         \u001b[0mscore\u001b[0m \u001b[0;34m=\u001b[0m \u001b[0mdna_health\u001b[0m\u001b[0;34m(\u001b[0m\u001b[0mhealth\u001b[0m\u001b[0;34m,\u001b[0m \u001b[0mgenes\u001b[0m\u001b[0;34m,\u001b[0m \u001b[0mfirst\u001b[0m\u001b[0;34m,\u001b[0m \u001b[0mlast\u001b[0m\u001b[0;34m,\u001b[0m \u001b[0mdna\u001b[0m\u001b[0;34m)\u001b[0m\u001b[0;34m\u001b[0m\u001b[0;34m\u001b[0m\u001b[0m\n\u001b[0m\u001b[1;32m     18\u001b[0m \u001b[0;34m\u001b[0m\u001b[0m\n\u001b[1;32m     19\u001b[0m         \u001b[0;32mif\u001b[0m \u001b[0mscore\u001b[0m \u001b[0;34m<\u001b[0m \u001b[0mleast\u001b[0m\u001b[0;34m:\u001b[0m\u001b[0;34m\u001b[0m\u001b[0;34m\u001b[0m\u001b[0m\n",
      "\u001b[0;31mNameError\u001b[0m: name 'dna_health' is not defined"
     ]
    }
   ],
   "source": [
    "with open('input.txt') as inputs:\n",
    "    n = int(inputs.readline())\n",
    "    genes = inputs.readline().rstrip().split()\n",
    "    health = list(map(int, inputs.readline().rstrip().split()))\n",
    "    s = int(inputs.readline())\n",
    "\n",
    "    least = float('inf')\n",
    "    most = float('-inf')\n",
    "\n",
    "    for s_itr in range(s):\n",
    "        firstLastd = inputs.readline().split()\n",
    "\n",
    "        first = int(firstLastd[0])\n",
    "        last = int(firstLastd[1])\n",
    "        dna = firstLastd[2]\n",
    "        \n",
    "        score = dna_health(health, genes, first, last, dna)\n",
    "\n",
    "        if score < least:\n",
    "          least = score\n",
    "        if score > most:\n",
    "          most = score\n",
    "    \n",
    "    print(least, most)"
   ]
  },
  {
   "cell_type": "code",
   "execution_count": null,
   "metadata": {},
   "outputs": [],
   "source": []
  }
 ],
 "metadata": {
  "kernelspec": {
   "display_name": "Python 3",
   "language": "python",
   "name": "python3"
  },
  "language_info": {
   "codemirror_mode": {
    "name": "ipython",
    "version": 3
   },
   "file_extension": ".py",
   "mimetype": "text/x-python",
   "name": "python",
   "nbconvert_exporter": "python",
   "pygments_lexer": "ipython3",
   "version": "3.7.2"
  }
 },
 "nbformat": 4,
 "nbformat_minor": 2
}
