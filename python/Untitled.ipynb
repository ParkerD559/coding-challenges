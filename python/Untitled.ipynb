{
 "cells": [
  {
   "cell_type": "code",
   "execution_count": null,
   "metadata": {},
   "outputs": [],
   "source": [
    "#!/bin/python3\n",
    "\n",
    "def counts(gene, dna):\n",
    "    for i in range(len(dna)):\n",
    "        yield dna[i:i+len(gene)] == gene\n",
    "        \n",
    "\n",
    "if __name__ == '__main__':\n",
    "    n = int(input())\n",
    "    genes = input().rstrip().split()\n",
    "    health = list(map(int, input().rstrip().split()))\n",
    "    s = int(input())\n",
    "\n",
    "    least = float('inf')\n",
    "    most = float('-inf')\n",
    "\n",
    "    def dna_health(dna, first, last):\n",
    "        for i in range(first, last+1):\n",
    "            yield sum(counts(genes[i], dna)) * health[i]\n",
    "\n",
    "    for s_itr in range(s):\n",
    "        firstLastd = input().split()\n",
    "\n",
    "        first = int(firstLastd[0])\n",
    "        last = int(firstLastd[1])\n",
    "        d = firstLastd[2]\n",
    "        \n",
    "        score = sum(dna_health(d, first, last))\n",
    "\n",
    "        if score < least:\n",
    "          least = score\n",
    "        if score > most:\n",
    "          most = score\n",
    "    \n",
    "    print(least, most)"
   ]
  },
  {
   "cell_type": "code",
   "execution_count": null,
   "metadata": {},
   "outputs": [],
   "source": []
  }
 ],
 "metadata": {
  "kernelspec": {
   "display_name": "Python 3",
   "language": "python",
   "name": "python3"
  },
  "language_info": {
   "codemirror_mode": {
    "name": "ipython",
    "version": 3
   },
   "file_extension": ".py",
   "mimetype": "text/x-python",
   "name": "python",
   "nbconvert_exporter": "python",
   "pygments_lexer": "ipython3",
   "version": "3.7.2"
  }
 },
 "nbformat": 4,
 "nbformat_minor": 2
}
