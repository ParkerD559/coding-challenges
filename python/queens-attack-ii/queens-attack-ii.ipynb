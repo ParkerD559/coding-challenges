{
 "cells": [
  {
   "cell_type": "markdown",
   "metadata": {},
   "source": [
    "# The Problem\n",
    "https://www.hackerrank.com/challenges/queens-attack-2/problem"
   ]
  },
  {
   "cell_type": "markdown",
   "metadata": {},
   "source": [
    "# The Solution\n",
    "\n",
    "In order to check if we have hit an obstacle in `O(1)` time, first I convert the obstacle positions to `tuple`s (which are hashable) and put them in a `set`. Then I build all the possible paths with some tedious list comprehensions, finally looping through each path in order, breaking if we see an obstacle."
   ]
  },
  {
   "cell_type": "code",
   "execution_count": 1,
   "metadata": {},
   "outputs": [],
   "source": [
    "def queensAttack(n, k, r_q, c_q, obs):\n",
    "    obstacles = set(map(tuple, obs))\n",
    "    moves = 0\n",
    "    paths = [\n",
    "        [(north, c_q) for north in range(r_q + 1, n + 1)],\n",
    "        [(south, c_q) for south in reversed(range(1, r_q))],\n",
    "        [(r_q, east) for east in range(c_q + 1, n + 1)],\n",
    "        [(r_q, west) for west in reversed(range(1, c_q))],\n",
    "        [northeast for northeast in [(r_q + i, c_q + i) for i in range(1, min(n - r_q + 1, n - c_q + 1))]],\n",
    "        [southeast for southeast in [(r_q - i, c_q + i) for i in range(1, min(r_q, n - c_q + 1))]],\n",
    "        [southwest for southwest in [(r_q - i, c_q - i) for i in range(1, min(r_q, c_q))]],\n",
    "        [northwest for northwest in [(r_q + i, c_q - i) for i in range(1, min(n - r_q + 1, c_q))]]\n",
    "    ]\n",
    "    for path in paths:\n",
    "        for step in path:\n",
    "            if step in obstacles:\n",
    "                break\n",
    "            moves += 1\n",
    "    return moves"
   ]
  },
  {
   "cell_type": "code",
   "execution_count": 2,
   "metadata": {},
   "outputs": [
    {
     "data": {
      "text/plain": [
       "10"
      ]
     },
     "execution_count": 2,
     "metadata": {},
     "output_type": "execute_result"
    }
   ],
   "source": [
    "queensAttack(5, 3, 4, 3, [(5, 5), (4, 2), (2, 3)])"
   ]
  },
  {
   "cell_type": "code",
   "execution_count": 3,
   "metadata": {},
   "outputs": [
    {
     "data": {
      "text/plain": [
       "0"
      ]
     },
     "execution_count": 3,
     "metadata": {},
     "output_type": "execute_result"
    }
   ],
   "source": [
    "queensAttack(1, 0, 1, 1, [])"
   ]
  }
 ],
 "metadata": {
  "kernelspec": {
   "display_name": "Python 3",
   "language": "python",
   "name": "python3"
  },
  "language_info": {
   "codemirror_mode": {
    "name": "ipython",
    "version": 3
   },
   "file_extension": ".py",
   "mimetype": "text/x-python",
   "name": "python",
   "nbconvert_exporter": "python",
   "pygments_lexer": "ipython3",
   "version": "3.7.2"
  }
 },
 "nbformat": 4,
 "nbformat_minor": 2
}
